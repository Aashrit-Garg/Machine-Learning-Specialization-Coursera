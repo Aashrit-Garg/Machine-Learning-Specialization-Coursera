{
 "cells": [
  {
   "cell_type": "markdown",
   "id": "7d32d96a-af24-4eae-95fe-664d7e30cbc6",
   "metadata": {
    "tags": []
   },
   "source": [
    "# Optional Lab - Derivatives\n",
    "This lab will give you a more intuitive understanding of derivatives. It will show you a simple way of calculating derivatives arithmetically. It will also introduce you to a handy Python library that allows you to calculate derivatives symbolically."
   ]
  },
  {
   "cell_type": "code",
   "execution_count": null,
   "id": "0c742359",
   "metadata": {},
   "outputs": [],
   "source": [
    "from sympy import symbols, diff"
   ]
  },
  {
   "cell_type": "markdown",
   "id": "54b08d49-6f7c-472c-9766-00d346557a58",
   "metadata": {},
   "source": [
    "## Informal definition of derivatives"
   ]
  },
  {
   "cell_type": "markdown",
   "id": "7dc70a27-f94d-4af0-af80-29d5faa65bd3",
   "metadata": {},
   "source": [
    "The formal definition of derivatives can be a bit daunting with limits and values 'going to zero'. The idea is really much simpler. \n",
    "\n",
    "The derivative of a function describes how the output of a function changes when there is a small change in an input variable.\n",
    "\n",
    "Let's use the cost function $J(w)$ as an example. The cost $J$ is the output and $w$ is the input variable.  \n",
    "Let's give a 'small change' a name *epsilon* or $\\epsilon$. We use these Greek letters because it is traditional in mathematics to use *epsilon*($\\epsilon$) or *delta* ($\\Delta$) to represent a small value. You can think of it as representing 0.001 or some other small value.  \n",
    "\n",
    "$$\n",
    "\\begin{equation}\n",
    "\\text{if } w \\uparrow \\epsilon \\text{ causes }J(w) \\uparrow \\text{by }k \\times \\epsilon \\text{ then}  \\\\\n",
    "\\frac{\\partial J(w)}{\\partial w} = k \\tag{1}\n",
    "\\end{equation}\n",
    "$$\n",
    "\n",
    "This just says if you change the input to the function $J(w)$ by a little bit and the output changes by $k$ times that little bit, then the derivative of $J(w)$ is equal to $k$.\n",
    "\n",
    "Let's try this out.  Let's look at the derivative of the function $J(w) = w^2$ at the point $w=3$ and $\\epsilon = 0.001$"
   ]
  },
  {
   "cell_type": "code",
   "execution_count": null,
   "id": "5ad3e047-b613-43ee-8162-940972e806bc",
   "metadata": {},
   "outputs": [],
   "source": [
    "J = (3)**2\n",
    "J_epsilon = (3 + 0.001)**2\n",
    "k = (J_epsilon - J)/0.001    # difference divided by epsilon\n",
    "print(f\"J = {J}, J_epsilon = {J_epsilon}, dJ_dw ~= k = {k:0.6f} \")"
   ]
  },
  {
   "cell_type": "markdown",
   "id": "6cd6242c-5ae9-4897-88eb-15fa034c96ce",
   "metadata": {},
   "source": [
    "We have increased the input value a little bit (0.001), causing the output to change from 9 to 9.006001, an increase of 6 times the input increase. Referencing (1) above, this says that $k=6$, so $\\frac{\\partial J(w)}{\\partial w} \\approx 6$. If you are familiar with calculus, you know, written symbolically,  $\\frac{\\partial J(w)}{\\partial w} = 2 w$. With $w=3$ this is 6. Our calculation above is not exactly 6 because to be exactly correct $\\epsilon$ would need to be [infinitesimally small](https://www.dictionary.com/browse/infinitesimally) or really, really small. That is why we use the symbols $\\approx$ or ~= rather than =. Let's see what happens if we make $\\epsilon$ smaller."
   ]
  },
  {
   "cell_type": "code",
   "execution_count": null,
   "id": "27599342-b8c3-4cc2-bf5c-268552ba32f5",
   "metadata": {},
   "outputs": [],
   "source": [
    "J = (3)**2\n",
    "J_epsilon = (3 + 0.000000001)**2\n",
    "k = (J_epsilon - J)/0.000000001\n",
    "print(f\"J = {J}, J_epsilon = {J_epsilon}, dJ_dw ~= k = {k} \")"
   ]
  },
  {
   "cell_type": "markdown",
   "id": "a34c9300-5607-4729-ae20-c332378a7829",
   "metadata": {},
   "source": [
    "The value gets close to exactly 6 as we reduce the size of $\\epsilon$. Feel free to try reducing the value further."
   ]
  },
  {
   "cell_type": "markdown",
   "id": "361db236",
   "metadata": {},
   "source": [
    "## Finding symbolic derivatives\n",
    "In backprop it is useful to know the derivative of simple functions at any input value. Put another way, we would like to know the 'symbolic' derivative rather than the 'arithmetic' derivative. An example of a symbolic derivative is,  $\\frac{\\partial J(w)}{\\partial w} = 2 w$, the derivative of $J(w) = w^2$ above.  With the symbolic derivative you can find the value of the derivative at any input value $w$.  \n",
    "\n",
    "If you have taken a calculus course, you are familiar with the many [differentiation rules](https://en.wikipedia.org/wiki/Differentiation_rules#Power_laws,_polynomials,_quotients,_and_reciprocals) that mathematicians have developed to solve for a derivative given an expression. Well, it turns out this process has been automated with symbolic differentiation programs. An example of this in python is the [SymPy](https://www.sympy.org/en/index.html) library. Let's take a look at how to use this."
   ]
  },
  {
   "cell_type": "markdown",
   "id": "2c0ab7af",
   "metadata": {},
   "source": [
    "### $J = w^2$\n",
    "Define the python variables and their symbolic names."
   ]
  },
  {
   "cell_type": "code",
   "execution_count": null,
   "id": "5749aca8",
   "metadata": {},
   "outputs": [],
   "source": [
    "J, w = symbols('J, w')"
   ]
  },
  {
   "cell_type": "markdown",
   "id": "225d5c93-c69f-40ef-80c8-65cdad609e95",
   "metadata": {},
   "source": [
    "Define and print the expression. Note SymPy produces a [latex](https://en.wikibooks.org/wiki/LaTeX/Mathematics) string which generates a nicely readable equation."
   ]
  },
  {
   "cell_type": "code",
   "execution_count": null,
   "id": "5c2054b5",
   "metadata": {},
   "outputs": [],
   "source": [
    "J=w**2\n",
    "J"
   ]
  },
  {
   "cell_type": "markdown",
   "id": "5bb3f397-3d4d-4671-badc-ca1be49f7ddf",
   "metadata": {},
   "source": [
    "Use SymPy's `diff` to differentiate the expression for $J$ with respect to $w$. Note the result matches our earlier example."
   ]
  },
  {
   "cell_type": "code",
   "execution_count": null,
   "id": "cf448e18",
   "metadata": {},
   "outputs": [],
   "source": [
    "dJ_dw = diff(J,w)\n",
    "dJ_dw"
   ]
  },
  {
   "cell_type": "markdown",
   "id": "9eadd53e-660e-4eb3-a976-46dbaecb0101",
   "metadata": {},
   "source": [
    "Evaluate the derivative at a few points by 'substituting' numeric values for the symbolic values. In the first example, $w$ is replaced by $2$."
   ]
  },
  {
   "cell_type": "code",
   "execution_count": null,
   "id": "2f73a97f",
   "metadata": {},
   "outputs": [],
   "source": [
    "dJ_dw.subs([(w,2)])    # derivative at the point w = 2"
   ]
  },
  {
   "cell_type": "code",
   "execution_count": null,
   "id": "0efb5fa9",
   "metadata": {
    "scrolled": true
   },
   "outputs": [],
   "source": [
    "dJ_dw.subs([(w,3)])    # derivative at the point w = 3"
   ]
  },
  {
   "cell_type": "code",
   "execution_count": null,
   "id": "2f99e2c6",
   "metadata": {},
   "outputs": [],
   "source": [
    "dJ_dw.subs([(w,-3)])    # derivative at the point w = -3"
   ]
  },
  {
   "cell_type": "markdown",
   "id": "ce4e747e-aa20-416c-8ee2-577f0ab60861",
   "metadata": {},
   "source": [
    "## $J = 2w$"
   ]
  },
  {
   "cell_type": "code",
   "execution_count": null,
   "id": "b49a5b7b",
   "metadata": {
    "tags": []
   },
   "outputs": [],
   "source": [
    "w, J = symbols('w, J')"
   ]
  },
  {
   "cell_type": "code",
   "execution_count": null,
   "id": "fff8cae1",
   "metadata": {},
   "outputs": [],
   "source": [
    "J = 2 * w\n",
    "J"
   ]
  },
  {
   "cell_type": "code",
   "execution_count": null,
   "id": "f7f7d0bd",
   "metadata": {
    "tags": []
   },
   "outputs": [],
   "source": [
    "dJ_dw = diff(J,w)\n",
    "dJ_dw"
   ]
  },
  {
   "cell_type": "code",
   "execution_count": null,
   "id": "9c039ab9-a5ab-4c71-8071-5952837a6aa2",
   "metadata": {},
   "outputs": [],
   "source": [
    "dJ_dw.subs([(w,-3)])    # derivative at the point w = -3"
   ]
  },
  {
   "cell_type": "markdown",
   "id": "fea85f84-23d3-49b4-9e9d-38ad93b4acd0",
   "metadata": {},
   "source": [
    "Compare this with the arithmetic calculation"
   ]
  },
  {
   "cell_type": "code",
   "execution_count": null,
   "id": "b82b80ae-af87-4fd4-b02a-1861b168bae8",
   "metadata": {},
   "outputs": [],
   "source": [
    "J = 2*3\n",
    "J_epsilon = 2*(3 + 0.001)\n",
    "k = (J_epsilon - J)/0.001\n",
    "print(f\"J = {J}, J_epsilon = {J_epsilon}, dJ_dw ~= k = {k} \")"
   ]
  },
  {
   "cell_type": "markdown",
   "id": "37c4e8a9-f515-414c-acff-756f62d48279",
   "metadata": {},
   "source": [
    "For the function $J=2w$, it is easy to see that any change in $w$ will result in 2 times that amount of change in the output $J$, regardless of the starting value of $w$. Our NumPy and arithmetic results confirm this. "
   ]
  },
  {
   "cell_type": "markdown",
   "id": "23dd94bf",
   "metadata": {},
   "source": [
    "## $J = w^3$"
   ]
  },
  {
   "cell_type": "code",
   "execution_count": null,
   "id": "df28c9e9",
   "metadata": {},
   "outputs": [],
   "source": [
    "J, w = symbols('J, w')"
   ]
  },
  {
   "cell_type": "code",
   "execution_count": null,
   "id": "aa69fdc1",
   "metadata": {},
   "outputs": [],
   "source": [
    "J=w**3\n",
    "J"
   ]
  },
  {
   "cell_type": "code",
   "execution_count": null,
   "id": "d36c0162",
   "metadata": {},
   "outputs": [],
   "source": [
    "dJ_dw = diff(J,w)\n",
    "dJ_dw"
   ]
  },
  {
   "cell_type": "code",
   "execution_count": null,
   "id": "07e5e0ed",
   "metadata": {},
   "outputs": [],
   "source": [
    "dJ_dw.subs([(w,2)])   # derivative at the point w=2"
   ]
  },
  {
   "cell_type": "markdown",
   "id": "c6f73098-6087-4689-bb79-0244aabafb03",
   "metadata": {},
   "source": [
    "Compare this with the arithmetic calculation"
   ]
  },
  {
   "cell_type": "code",
   "execution_count": null,
   "id": "2e60903a",
   "metadata": {},
   "outputs": [],
   "source": [
    "J = (2)**3\n",
    "J_epsilon = (2+0.001)**3\n",
    "k = (J_epsilon - J)/0.001\n",
    "print(f\"J = {J}, J_epsilon = {J_epsilon}, dJ_dw ~= k = {k} \")"
   ]
  },
  {
   "cell_type": "markdown",
   "id": "17bd2833",
   "metadata": {},
   "source": [
    "## $J = \\frac{1}{w}$"
   ]
  },
  {
   "cell_type": "code",
   "execution_count": null,
   "id": "ef88b975",
   "metadata": {},
   "outputs": [],
   "source": [
    "J, w = symbols('J, w')"
   ]
  },
  {
   "cell_type": "code",
   "execution_count": null,
   "id": "18cdd9e3",
   "metadata": {},
   "outputs": [],
   "source": [
    "J= 1/w\n",
    "J"
   ]
  },
  {
   "cell_type": "code",
   "execution_count": null,
   "id": "a0893e87",
   "metadata": {},
   "outputs": [],
   "source": [
    "dJ_dw = diff(J,w)\n",
    "dJ_dw"
   ]
  },
  {
   "cell_type": "code",
   "execution_count": null,
   "id": "fb1f0514",
   "metadata": {},
   "outputs": [],
   "source": [
    "dJ_dw.subs([(w,2)])"
   ]
  },
  {
   "cell_type": "markdown",
   "id": "7c02a8a5-09ec-444b-927b-a41d973dd780",
   "metadata": {},
   "source": [
    "Compare this with the arithmetic calculation"
   ]
  },
  {
   "cell_type": "code",
   "execution_count": null,
   "id": "0143ad9e-4e76-457e-8853-0c04e51d9418",
   "metadata": {},
   "outputs": [],
   "source": [
    "J = 1/2\n",
    "J_epsilon = 1/(2+0.001)\n",
    "k = (J_epsilon - J)/0.001\n",
    "print(f\"J = {J}, J_epsilon = {J_epsilon}, dJ_dw ~= k = {k} \")"
   ]
  },
  {
   "cell_type": "markdown",
   "id": "33cac951-d795-452c-86e0-1cdf2d1dc15b",
   "metadata": {},
   "source": [
    "## $J = \\frac{1}{w^2}$"
   ]
  },
  {
   "cell_type": "code",
   "execution_count": null,
   "id": "97c7aa72-3528-421f-bd7e-123fd9106a7b",
   "metadata": {},
   "outputs": [],
   "source": [
    "J, w = symbols('J, w')"
   ]
  },
  {
   "cell_type": "markdown",
   "id": "f98e0407-c1d4-4db1-bad6-b1f3953fe744",
   "metadata": {},
   "source": [
    "If you have time, try to repeat the above steps on the function  $J = \\frac{1}{w^2}$ and evaluate at w=4"
   ]
  },
  {
   "cell_type": "code",
   "execution_count": null,
   "id": "0fa3b284-e47e-47ed-874a-5a4651a54b3a",
   "metadata": {},
   "outputs": [],
   "source": []
  },
  {
   "cell_type": "code",
   "execution_count": null,
   "id": "8e23454c-5415-4b61-8c07-968fde11fe5f",
   "metadata": {},
   "outputs": [],
   "source": []
  },
  {
   "cell_type": "code",
   "execution_count": null,
   "id": "d1c52b80-fb6f-48b9-b3c4-0e3932ce0b39",
   "metadata": {},
   "outputs": [],
   "source": []
  },
  {
   "cell_type": "markdown",
   "id": "a713a44a-5ec8-4460-9f61-cf1c97dcb881",
   "metadata": {},
   "source": [
    "Compare this with the arithmetic calculation"
   ]
  },
  {
   "cell_type": "code",
   "execution_count": null,
   "id": "d2814725-3c2a-4ef2-b53a-7481a55c2aa6",
   "metadata": {},
   "outputs": [],
   "source": [
    "J = 1/4**2\n",
    "J_epsilon = 1/(4+0.001)**2\n",
    "k = (J_epsilon - J)/0.001\n",
    "print(f\"J = {J}, J_epsilon = {J_epsilon}, dJ_dw ~= k = {k} \")"
   ]
  },
  {
   "cell_type": "markdown",
   "id": "a396faf3-a453-4e21-a430-2c581bf9e3e7",
   "metadata": {},
   "source": [
    "<details>\n",
    "  <summary><font size=\"3\" color=\"darkgreen\"><b>Click for hints</b></font></summary>\n",
    "    \n",
    "```python \n",
    "J= 1/w**2\n",
    "dJ_dw = diff(J,w)\n",
    "dJ_dw.subs([(w,4)])\n",
    "```\n",
    "  \n",
    "\n",
    "</details>\n",
    "\n",
    "    \n"
   ]
  },
  {
   "cell_type": "markdown",
   "id": "4a31e6c1-0dc1-4b77-a312-941eb7740aca",
   "metadata": {},
   "source": [
    "## Congratulations!\n",
    "If you have run through the above examples, you understand a derivative describes the change in the output of a function that is a result of a small change in an input to that function. You also can use *SymPy* in python to find the symbolic derivative of functions."
   ]
  }
 ],
 "metadata": {
  "kernelspec": {
   "display_name": "Python 3 (ipykernel)",
   "language": "python",
   "name": "python3"
  },
  "language_info": {
   "codemirror_mode": {
    "name": "ipython",
    "version": 3
   },
   "file_extension": ".py",
   "mimetype": "text/x-python",
   "name": "python",
   "nbconvert_exporter": "python",
   "pygments_lexer": "ipython3",
   "version": "3.9.10"
  }
 },
 "nbformat": 4,
 "nbformat_minor": 5
}
